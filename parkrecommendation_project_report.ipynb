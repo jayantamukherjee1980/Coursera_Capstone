{
 "cells": [
  {
   "cell_type": "markdown",
   "metadata": {},
   "source": [
    "# Recommendation for buidling new Children Parks"
   ]
  },
  {
   "cell_type": "markdown",
   "metadata": {},
   "source": [
    "## Problem Statement"
   ]
  },
  {
   "cell_type": "markdown",
   "metadata": {},
   "source": [
    "### Kolkata is a very old and congested city (Kolkata, West Bengal, India). Within 20 KM from its center we need to recommend where the government can plan to build new children parks. The idea is to find where the existing famous children parks are located. Then to get the list of places, which are hugely populated and famous, but no place for children to play. Our purpose is to list down the areas where there is not a single significant children park and recommend the government to build new parks in those areas."
   ]
  },
  {
   "cell_type": "markdown",
   "metadata": {},
   "source": [
    "## Required Data"
   ]
  },
  {
   "cell_type": "markdown",
   "metadata": {},
   "source": [
    "### 1. List of places in West Bengal with their Pin Codes. For this purpose we can use any publicly available list of Pin Codes. Here I have plan to get the data from the site http://www.chennaiiq.com\n"
   ]
  },
  {
   "cell_type": "markdown",
   "metadata": {},
   "source": [
    "### 2. Latitude and Longitude of the areas is required to filter the location withing 20 KM from the center of Kolkata. For this purpose we can use geocode utility of googlemaps."
   ]
  },
  {
   "cell_type": "markdown",
   "metadata": {},
   "source": [
    "### 3. Need to get locations nearby Parks once the coordinates of the areas are available. Planed to use \"FourSquare\" to get local venues and filter out Parks from that. "
   ]
  },
  {
   "cell_type": "markdown",
   "metadata": {},
   "source": [
    "## Foursquare\n"
   ]
  },
  {
   "cell_type": "markdown",
   "metadata": {},
   "source": [
    "### Foursquare is a local search-and-discovery service mobile app which provides search results for its users. For more information click on https://foursquare.com/"
   ]
  },
  {
   "cell_type": "markdown",
   "metadata": {},
   "source": [
    "# Main Report"
   ]
  },
  {
   "cell_type": "markdown",
   "metadata": {},
   "source": [
    "## Part1: Web-scraping for area information"
   ]
  },
  {
   "cell_type": "markdown",
   "metadata": {},
   "source": [
    "### Extracted Pin Code vs Area Names from the site http://www.chennaiiq.com. Used BeautifulSoup to parse the html contents. Alphabatically area names were available in 26 different pages. Invoked the request 26 times with 26 characters starting from 'A' to Z'. After this process the complete list for state of West Bengal has been prepared."
   ]
  },
  {
   "cell_type": "markdown",
   "metadata": {},
   "source": [
    "## Part2: Processing records to combine area Pin Code wise"
   ]
  },
  {
   "cell_type": "markdown",
   "metadata": {},
   "source": [
    "### There were multiple area sharing the same Pin Codes. So, processed the data to combine all areas that belong to the same Pin Code. So, after this processing we get unique Pin Codes anf the list of corresponding ares."
   ]
  },
  {
   "cell_type": "markdown",
   "metadata": {},
   "source": [
    "## Part3: Populating Latitude and Longitudes"
   ]
  },
  {
   "cell_type": "markdown",
   "metadata": {},
   "source": [
    "### Using GoogleMap API populated Latitude and Longitude of all the Pin Codes. Now, our data has the following information: Pin Code, Area List, Latitude, Longitude.\n"
   ]
  },
  {
   "cell_type": "markdown",
   "metadata": {},
   "source": [
    "## Part3: Filtering of areas within 20 Killo Meters from Kolkata"
   ]
  },
  {
   "cell_type": "markdown",
   "metadata": {},
   "source": [
    "### Using geopy.distance.geodesic calculated distances of all the areas from the center of Kolkata. Using this distances, filtered only those locations are within 20 Km from Kolkata."
   ]
  },
  {
   "cell_type": "markdown",
   "metadata": {},
   "source": [
    "## Part4: Listing all the important venues nearby the filtered locations"
   ]
  },
  {
   "cell_type": "markdown",
   "metadata": {},
   "source": [
    "### From all those locations that are within 20 Km from Kolkata, using FourSquare we populated all the important venues nearby all those locations.\n"
   ]
  },
  {
   "cell_type": "markdown",
   "metadata": {},
   "source": [
    "## Part5: Filtering only Parks from the listed venues"
   ]
  },
  {
   "cell_type": "markdown",
   "metadata": {},
   "source": [
    "### Filtered only Parks from the nearby venues. Now we have the ist of Areas where there are Children Parks in vicinity."
   ]
  },
  {
   "cell_type": "markdown",
   "metadata": {},
   "source": [
    "## Part6: Filtering the areas where there is no Chidren Parks"
   ]
  },
  {
   "cell_type": "markdown",
   "metadata": {},
   "source": [
    "### Now subtraction of the list of areas where there are Parks from the list of all areas, gives us the list of areas where there is no Children Parks in vicinity. We recomment this list of locations to be picked up for building new Children Parks."
   ]
  },
  {
   "cell_type": "markdown",
   "metadata": {},
   "source": [
    "## Results"
   ]
  },
  {
   "cell_type": "markdown",
   "metadata": {},
   "source": [
    "### Found 171 areas where new Children Park can be developed."
   ]
  },
  {
   "cell_type": "markdown",
   "metadata": {},
   "source": [
    "## Following are the list of areas where new Parks are recommented:"
   ]
  },
  {
   "cell_type": "markdown",
   "metadata": {},
   "source": [
    "<table>\n",
    "<tr><th>Sl#</th><th>Pin Code</th><th>Area Names</th></tr>\n",
    "<tr><td>3</td><td>700002</td><td>Cossipore Gun Factory, Cossipore H O, Indian Research, Postal Stores Depot, Paikpara, Satchasipara, Tala</td></tr>\n",
    "<tr><td>10</td><td>700004</td><td>R G Kar M C Hospital, Shyambazar, Shyambazar Market, Ultadanga</td></tr>\n",
    "<tr><td>17</td><td>700006</td><td>Beadon Street, Bidhan Sarani, Jorasanko, Maniktala, Pathuriaghata, Simla, Sahitya Parisad</td></tr>\n",
    "<tr><td>26</td><td>700008</td><td>Barisha, Purba Barisha</td></tr>\n",
    "<tr><td>29</td><td>700009</td><td>Sarani Rarsibagan</td></tr>\n",
    "<tr><td>31</td><td>700010</td><td>Beleghata H O, Joranandir, Subhas Sarobar</td></tr>\n",
    "<tr><td>34</td><td>700011</td><td>Narkeldanga</td></tr>\n",
    "<tr><td>56</td><td>700014</td><td>Bamboovilla, Intally, Linton Street, Sealdah, Taltala</td></tr>\n",
    "<tr><td>114</td><td>700018</td><td>Bartala, Rabindranagar</td></tr>\n",
    "<tr><td>115</td><td>700019</td><td>Ballygunge, Ballygunge R S, Ballygunge Science College, Garcha Road, Gariahat Market, Gol Park</td></tr>\n",
    "<tr><td>152</td><td>700022</td><td>Bakery Road, Hastings</td></tr>\n",
    "<tr><td>153</td><td>700023</td><td>Kidderpore, Manstala, Market, Raja Janakinath, Watgunge</td></tr>\n",
    "<tr><td>154</td><td>700024</td><td>Garden Reach, Keshoram Cotton Mills, Paharpur Garden, Reach, Trenching Grand Road</td></tr>\n",
    "<tr><td>155</td><td>700025</td><td>Bhawanipore, Lansdown Market, Ranshet Wadi, Ramkrishna Park</td></tr>\n",
    "<tr><td>157</td><td>700026</td><td>Keoratala, Kalighat, Kalimandir, Protisthan, Ramkrishna Seva, Southern Market, Sahannagar</td></tr>\n",
    "<tr><td>161</td><td>700027</td><td>Alipore Bodyguard Line, Alipore Civil Court, Alipore District Board, Alipore H O, Alipore Store Yard, Chetla, Mominpore, National Library</td></tr>\n",
    "<tr><td>166</td><td>700028</td><td>Dum Dum, Jungipara Salgs Nager Bzr, Jugipara Satgachi, Kumarpare, Kamalapur, Ordnance Factory, Rajabagan</td></tr>\n",
    "<tr><td>181</td><td>700030</td><td>Ghughudanga, Purbe Sinthee, Sethbagan</td></tr>\n",
    "<tr><td>185</td><td>700031</td><td>Dhakuria, K P Roy Lane</td></tr>\n",
    "<tr><td>187</td><td>700032</td><td>Bejoy Garh, Hossain Road, Jadavpur University, Prince Golam</td></tr>\n",
    "<tr><td>191</td><td>700033</td><td>Indrani Park, Tallygunge H O, Tollygunge Circular Road</td></tr>\n",
    "<tr><td>196</td><td>700034</td><td>Brahma Samaj Road, Behala, Behala Municipal Market, Jayasree Park, Parchanantala, Serhati</td></tr>\n",
    "<tr><td>200</td><td>700035</td><td>Alambazar, Ashokegarh, Bon Hooghly, Desh Bandhu Road</td></tr>\n",
    "<tr><td>204</td><td>700036</td><td>Bengal Immunity, Baranagar</td></tr>\n",
    "<tr><td>205</td><td>700037</td><td>Belgachia, Belgachia Road, Northern Avenue</td></tr>\n",
    "<tr><td>207</td><td>700038</td><td>Sahapur</td></tr>\n",
    "<tr><td>210</td><td>700039</td><td>Bediadanga, Picnic Garden, Topsia, Tiljala, Tiljalabazar</td></tr>\n",
    "<tr><td>217</td><td>700040</td><td>Netajinagar, Regent Park, Russa</td></tr>\n",
    "<tr><td>221</td><td>700041</td><td>Paschim Putuary</td></tr>\n",
    "<tr><td>223</td><td>700042</td><td>Bose Pukur Road, Kasba</td></tr>\n",
    "<tr><td>228</td><td>700043</td><td>Coal Dock Road, Sonai, South Eastern Rly</td></tr>\n",
    "<tr><td>229</td><td>700044</td><td>Barasahebs Hat, Badartala, Rajabagan Dok Yeard</td></tr>\n",
    "<tr><td>230</td><td>700045</td><td>La Gardens</td></tr>\n",
    "<tr><td>234</td><td>700046</td><td>Abinash Choudhury Lane, Gobinda Khatik Road</td></tr>\n",
    "<tr><td>240</td><td>700047</td><td>Ganguly Bagan, Garia Bus Terminus, Naktala</td></tr>\n",
    "<tr><td>241</td><td>700048</td><td>Basak Bagan, Patipukur, Sree Bhumi, Sadhana Aushadhalaya Road</td></tr>\n",
    "<tr><td>244</td><td>700049</td><td>Nimta, Udaipur</td></tr>\n",
    "<tr><td>245</td><td>700050</td><td>Sinthee, South Sinthee</td></tr>\n",
    "<tr><td>249</td><td>700051</td><td>Birati</td></tr>\n",
    "<tr><td>250</td><td>700052</td><td>Kolkata Air Port, Kolkata Air Port N T B, K R Bose Sarani</td></tr>\n",
    "<tr><td>251</td><td>700053</td><td>Kalabagan, New Alipore, Nalini Ranjan Avenue</td></tr>\n",
    "<tr><td>256</td><td>700054</td><td>Bengal Chemical, Kankurgachi, Phulbagan, Ram Krishna Samadhi Rd</td></tr>\n",
    "<tr><td>264</td><td>700055</td><td>Bangur Avenue, Dum Dum Park, Shyamnagar Dum Dum</td></tr>\n",
    "<tr><td>269</td><td>700056</td><td>Basudevpur, Belgharia H O, Belgharia Mohini Mills, Bidhan Nagar A E Block, Deshapriya Nagar, East Belgharia, Labony Estate, Rathtala, South Belgharia, Texmaco</td></tr>\n",
    "<tr><td>270</td><td>700057</td><td>Ariadaha, Nawadapara</td></tr>\n",
    "<tr><td>271</td><td>700058</td><td>Elias Road, Kamarhati, Kamarhati Mills</td></tr>\n",
    "<tr><td>273</td><td>700059</td><td>Baguiati Super Market, Deshbandhu Nagar</td></tr>\n",
    "<tr><td>278</td><td>700060</td><td>Mahendra Banerjee Road, Parnasripally</td></tr>\n",
    "<tr><td>280</td><td>700061</td><td>Jairampur, Kastodanga, Sarsoona</td></tr>\n",
    "<tr><td>282</td><td>700062</td><td>W B G S Camp</td></tr>\n",
    "<tr><td>286</td><td>700063</td><td>Paschim Barisha, Thakurpukur</td></tr>\n",
    "<tr><td>294</td><td>700065</td><td>Health Institute, Rabindranagar, Subhas Nagar (Durganagar)</td></tr>\n",
    "<tr><td>295</td><td>700066</td><td>Bidhangarh</td></tr>\n",
    "<tr><td>296</td><td>700067</td><td>Lily Biscuit, Ultadanga Main Road</td></tr>\n",
    "<tr><td>297</td><td>700068</td><td>Jodhpur Park</td></tr>\n",
    "<tr><td>303</td><td>700069</td><td>Esplanade, Great Eastern Hotel, Income Tax Building</td></tr>\n",
    "<tr><td>323</td><td>700071</td><td>Little Russel St, Middleton Row, Russel Street</td></tr>\n",
    "<tr><td>366</td><td>700074</td><td>Dum Dum Road, Jawpore, Motijheel</td></tr>\n",
    "<tr><td>369</td><td>700075</td><td>Garfa, Santoshpur, Santoshpur Avenue, Viviekanagar</td></tr>\n",
    "<tr><td>374</td><td>700076</td><td>Dakshineswar</td></tr>\n",
    "<tr><td>377</td><td>700077</td><td>Bediapara</td></tr>\n",
    "<tr><td>378</td><td>700078</td><td>Haltu, Jadavgarh</td></tr>\n",
    "<tr><td>379</td><td>700079</td><td>Italgacha</td></tr>\n",
    "<tr><td>380</td><td>700080</td><td>Jessore Road, Mall Road</td></tr>\n",
    "<tr><td>381</td><td>700081</td><td>Rajbari Colony</td></tr>\n",
    "<tr><td>383</td><td>700082</td><td>Haridebpur, Keorapukur Bazar</td></tr>\n",
    "<tr><td>384</td><td>700083</td><td>Nandannagar</td></tr>\n",
    "<tr><td>385</td><td>700084</td><td>Garia, Garia Garden, Kamdahari</td></tr>\n",
    "<tr><td>390</td><td>700085</td><td>Sarani</td></tr>\n",
    "<tr><td>391</td><td>700086</td><td>Bagha Jatin</td></tr>\n",
    "<tr><td>393</td><td>700087</td><td>New Market</td></tr>\n",
    "<tr><td>420</td><td>700088</td><td>Brace Bridge, Hyderabad Road, Kolkata Mint, Telecom Factory, Taratala Road</td></tr>\n",
    "<tr><td>423</td><td>700089</td><td>Kalindi Housing Estate, Lake Town</td></tr>\n",
    "<tr><td>427</td><td>700090</td><td>Noapara, Netaji Colony</td></tr>\n",
    "<tr><td>432</td><td>700092</td><td>Regent Estate</td></tr>\n",
    "<tr><td>434</td><td>700093</td><td>Purba Putiary</td></tr>\n",
    "<tr><td>435</td><td>700094</td><td>Panchasayar</td></tr>\n",
    "<tr><td>439</td><td>700095</td><td>Golf Green</td></tr>\n",
    "<tr><td>441</td><td>700096</td><td>Brahmapur</td></tr>\n",
    "<tr><td>442</td><td>700097</td><td>Purbachal</td></tr>\n",
    "<tr><td>448</td><td>700098</td><td>Bidhan Nagar Sai Complex</td></tr>\n",
    "<tr><td>449</td><td>700099</td><td>Kalikapur</td></tr>\n",
    "<tr><td>450</td><td>700100</td><td>Vip Nagar</td></tr>\n",
    "<tr><td>451</td><td>700101</td><td>Prafullakanan</td></tr>\n",
    "<tr><td>457</td><td>700102</td><td>Krishnapur</td></tr>\n",
    "<tr><td>458</td><td>700103</td><td>Narendrapur</td></tr>\n",
    "<tr><td>461</td><td>700104</td><td>Joka</td></tr>\n",
    "<tr><td>462</td><td>700105</td><td>Dhapa</td></tr>\n",
    "<tr><td>463</td><td>700106</td><td>Bidhannagar Ib Market</td></tr>\n",
    "<tr><td>467</td><td>700107</td><td>East Kolkata Township</td></tr>\n",
    "<tr><td>474</td><td>700108</td><td>Indian Statistical Institute</td></tr>\n",
    "<tr><td>476</td><td>700109</td><td>Agarpara, Agarpara</td></tr>\n",
    "<tr><td>477</td><td>700110</td><td>Bijoypur, Sodepur Govt, Sodpur</td></tr>\n",
    "<tr><td>479</td><td>700111</td><td>Ghola Bazar, Ghola Bazar</td></tr>\n",
    "<tr><td>480</td><td>700112</td><td>Pansila, Pansila</td></tr>\n",
    "<tr><td>481</td><td>700113</td><td>Natagarh, Natagarh</td></tr>\n",
    "<tr><td>482</td><td>700114</td><td>Panihati, Panihati</td></tr>\n",
    "<tr><td>483</td><td>700115</td><td>Sukchar, Sukchar</td></tr>\n",
    "<tr><td>485</td><td>700116</td><td>Balaram Dharma Sopan, Balaram Dharma Sopan, Bangodaya</td></tr>\n",
    "<tr><td>486</td><td>700117</td><td>Jeliapara, Khardah, Surya Sen Nagar</td></tr>\n",
    "<tr><td>487</td><td>700118</td><td>Rahara, Rahara</td></tr>\n",
    "<tr><td>488</td><td>700119</td><td>Brahmasthan, Bishalakshi Ghat, Titagarh</td></tr>\n",
    "<tr><td>490</td><td>700120</td><td>Barrackpore Bazar, Barrackpore Govt House, Barrackpore H O, Barrackpore Park Road, Ghoshpara Road, Monirampore, Orderly Bazar, Vivekananda Math</td></tr>\n",
    "<tr><td>491</td><td>700126</td><td>Navanalli</td></tr>\n",
    "<tr><td>492</td><td>700127</td><td>Hridaypur, Hridaypur</td></tr>\n",
    "<tr><td>496</td><td>700129</td><td>Madhyamgram</td></tr>\n",
    "<tr><td>500</td><td>700130</td><td>Madhyagram Bazar</td></tr>\n",
    "<tr><td>501</td><td>700131</td><td>New Barrackpore</td></tr>\n",
    "<tr><td>502</td><td>700132</td><td>Ganga Nagar</td></tr>\n",
    "<tr><td>504</td><td>700133</td><td>Michale Nagar, Mechealnagar</td></tr>\n",
    "<tr><td>505</td><td>700134</td><td>Nilachal</td></tr>\n",
    "<tr><td>506</td><td>700135</td><td>Rajarhat</td></tr>\n",
    "<tr><td>507</td><td>700136</td><td>Rajarhat Gopalpur</td></tr>\n",
    "<tr><td>514</td><td>700139</td><td>Vivekananda Pally, Vivekananda Pally</td></tr>\n",
    "<tr><td>515</td><td>700140</td><td>Batanagar</td></tr>\n",
    "<tr><td>516</td><td>700141</td><td>Maheshtala</td></tr>\n",
    "<tr><td>517</td><td>700142</td><td>Santoshpur (Mahestala)</td></tr>\n",
    "<tr><td>518</td><td>700143</td><td>Sarkarpool</td></tr>\n",
    "<tr><td>519</td><td>700146</td><td>Kodalia</td></tr>\n",
    "<tr><td>520</td><td>700148</td><td>Harinavi</td></tr>\n",
    "<tr><td>521</td><td>700149</td><td>Raipur, Rajpur, Rajpur Bazar, Rajpur Bazar</td></tr>\n",
    "<tr><td>522</td><td>700150</td><td>Sonarpur</td></tr>\n",
    "<tr><td>523</td><td>700151</td><td>Dakshin Jagadishpur, Dakshin Jagatdal</td></tr>\n",
    "<tr><td>524</td><td>700152</td><td>Panchpota</td></tr>\n",
    "<tr><td>525</td><td>700153</td><td>Laskarpur, Laskarpur</td></tr>\n",
    "<tr><td>526</td><td>700154</td><td>Boral</td></tr>\n",
    "<tr><td>527</td><td>700155</td><td>Abdalpur</td></tr>\n",
    "<tr><td>528</td><td>711101</td><td>Howrah R S, Howrah H O, Khurut Road, Kadamtala, Pachal Bazar, Panchanastala, Ramkrishnapur, Rosa Road</td></tr>\n",
    "<tr><td>531</td><td>711102</td><td>Baisnabpara Bazar, Cows Ghat Road, D B Institution, Garden Lane, Keorapara, Shibpur, Tulsi Mitra</td></tr>\n",
    "<tr><td>536</td><td>711103</td><td>Andul Road, Botanic Garden, Batiatala, Debendra Ganguly Road, Shalimar</td></tr>\n",
    "<tr><td>537</td><td>711104</td><td>Chatterjeehat, Chakraberia, Circular Road, Ichapur Road, Olabibitala, Ramrajatala, Santragachi, Sarat Chatterjee Road</td></tr>\n",
    "<tr><td>538</td><td>711105</td><td>Belgachia Manshatala, Dasnagar</td></tr>\n",
    "<tr><td>539</td><td>711106</td><td>A Road (Bamongachi), Bomangachi, Bhairb Dutta Lane, Bandhaghat, Dharmatala Road, Hooghly Dock, Howrah Loco Depot, Jag Ariti, Qumaresh, Salka H O</td></tr>\n",
    "<tr><td>542</td><td>711107</td><td>Ghusuri, V C Mills</td></tr>\n",
    "<tr><td>543</td><td>711108</td><td>Netaji Subhas, Netajigarh</td></tr>\n",
    "<tr><td>544</td><td>711109</td><td>Bakultala, Danesh Sk Lane, Goaberia</td></tr>\n",
    "<tr><td>545</td><td>711201</td><td>Bally, Bally Gosamipara Road, Daws Temple Road, Mohanlal Bhalwala Road</td></tr>\n",
    "<tr><td>546</td><td>711202</td><td>Belu Bazar, Belurmath</td></tr>\n",
    "<tr><td>549</td><td>711203</td><td>Bhatta Nagar</td></tr>\n",
    "<tr><td>550</td><td>711204</td><td>Abhoy Guha Road, Liluah, Shibtala (Liluah)</td></tr>\n",
    "<tr><td>551</td><td>711205</td><td>Sambay Pallay</td></tr>\n",
    "<tr><td>553</td><td>711224</td><td>Dankuni</td></tr>\n",
    "<tr><td>554</td><td>711227</td><td>Ghoshpara</td></tr>\n",
    "<tr><td>555</td><td>711302</td><td>Andul Mauri</td></tr>\n",
    "<tr><td>557</td><td>711309</td><td>Delta Mills</td></tr>\n",
    "<tr><td>558</td><td>711311</td><td>Jagaeha, Old Jagacha</td></tr>\n",
    "<tr><td>559</td><td>711313</td><td>Sankrail</td></tr>\n",
    "<tr><td>560</td><td>711321</td><td>G I Press Colony, Old Jagacha</td></tr>\n",
    "<tr><td>561</td><td>711402</td><td>Baltikuri</td></tr>\n",
    "<tr><td>562</td><td>711403</td><td>Bank</td></tr>\n",
    "<tr><td>563</td><td>711405</td><td>Domjur</td></tr>\n",
    "<tr><td>564</td><td>711409</td><td>Makardah</td></tr>\n",
    "<tr><td>565</td><td>711411</td><td>Begri</td></tr>\n",
    "<tr><td>566</td><td>712201</td><td>Kalbazar, Manicktala Bazar, Serampore Court, Serampore H O</td></tr>\n",
    "<tr><td>568</td><td>712202</td><td>Mahes-I</td></tr>\n",
    "<tr><td>569</td><td>712203</td><td>Mallickpara</td></tr>\n",
    "<tr><td>570</td><td>712232</td><td>Bhadrakali</td></tr>\n",
    "<tr><td>571</td><td>712233</td><td>Hind Motor</td></tr>\n",
    "<tr><td>572</td><td>712234</td><td>Kanaipur</td></tr>\n",
    "<tr><td>573</td><td>712235</td><td>Cripar Road, Konnagar</td></tr>\n",
    "<tr><td>574</td><td>712245</td><td>Makhla</td></tr>\n",
    "<tr><td>575</td><td>712246</td><td>Nabagram (Hooghly)</td></tr>\n",
    "<tr><td>576</td><td>712247</td><td>Raghunathpur (Hooghly)</td></tr>\n",
    "<tr><td>577</td><td>712248</td><td>Bangurpark, Gandhisarak, Mahesh-Ii, Masjidlane, Rishra</td></tr>\n",
    "<tr><td>578</td><td>712258</td><td>Raiendra Avenue, Uttarpara, Uttarpara Bazar</td></tr>\n",
    "<tr><td>580</td><td>712304</td><td>Janai</td></tr>\n",
    "<tr><td>581</td><td>712702</td><td>Chanditala</td></tr>\n",
    "<tr><td>582</td><td>712703</td><td>Nawabpur</td></tr>\n",
    "<tr><td>583</td><td>743178</td><td>Ghola, Housing Estate, Ramchandrapur, Tirthabaharati</td></tr>\n",
    "<tr><td>586</td><td>743201</td><td>Barasat Bazar, Sethpukur</td></tr>\n",
    "<tr><td>591</td><td>743319</td><td>B B Natun Bazar</td></tr>\n",
    "</table>"
   ]
  },
  {
   "cell_type": "code",
   "execution_count": null,
   "metadata": {},
   "outputs": [],
   "source": []
  }
 ],
 "metadata": {
  "kernelspec": {
   "display_name": "Python 3",
   "language": "python",
   "name": "python3"
  },
  "language_info": {
   "codemirror_mode": {
    "name": "ipython",
    "version": 3
   },
   "file_extension": ".py",
   "mimetype": "text/x-python",
   "name": "python",
   "nbconvert_exporter": "python",
   "pygments_lexer": "ipython3",
   "version": "3.6.6"
  }
 },
 "nbformat": 4,
 "nbformat_minor": 2
}
