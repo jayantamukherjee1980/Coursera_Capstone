{
 "cells": [
  {
   "cell_type": "markdown",
   "metadata": {},
   "source": [
    "# Assignment: Webscrape Wiki page to prepare clean data for Toronto Neighbouring localities"
   ]
  },
  {
   "cell_type": "markdown",
   "metadata": {},
   "source": [
    "#### [ Used following commands for installation of Requests and BeautifulSoup: 1. pip3 install requests 2. pip3 install beautifulsoup4 ]"
   ]
  },
  {
   "cell_type": "code",
   "execution_count": 1,
   "metadata": {},
   "outputs": [],
   "source": [
    "import pandas as pd\n",
    "import numpy as np\n",
    "from bs4 import BeautifulSoup\n",
    "import requests"
   ]
  },
  {
   "cell_type": "code",
   "execution_count": 2,
   "metadata": {},
   "outputs": [],
   "source": [
    "#Use the Notebook to build the code to scrape the following Wikipedia page\n",
    "wiki_link='https://en.wikipedia.org/wiki/List_of_postal_codes_of_Canada:_M'\n",
    "raw_wiki_page_content = requests.get(wiki_link).text\n",
    "\n",
    "raw_wiki_page_content_xml = BeautifulSoup(raw_wiki_page_content,'xml')"
   ]
  },
  {
   "cell_type": "markdown",
   "metadata": {},
   "source": [
    "## Process the web content to prepare the dataframe"
   ]
  },
  {
   "cell_type": "code",
   "execution_count": 3,
   "metadata": {},
   "outputs": [],
   "source": [
    "table = raw_wiki_page_content_xml.find('table')\n",
    "#print(table.prettify())\n",
    "\n",
    "Postcode      = []\n",
    "Borough       = []\n",
    "Neighbourhood = []"
   ]
  },
  {
   "cell_type": "code",
   "execution_count": 4,
   "metadata": {},
   "outputs": [],
   "source": [
    "line_number = 1\n",
    "for tr_cell in table.find_all('tr'):\n",
    "    if line_number > 1 :\n",
    "        column_number = 1\n",
    "        Postcode_temp = None\n",
    "        Borough_temp = None\n",
    "        Neighbourhood_temp = None\n",
    "        for td_cell in tr_cell.find_all('td'):\n",
    "            if column_number == 1 :\n",
    "                Postcode_temp = td_cell.text\n",
    "            elif column_number == 2 :\n",
    "                Borough_temp = td_cell.text\n",
    "            else :\n",
    "                Neighbourhood_temp = td_cell.text\n",
    "            column_number = column_number + 1\n",
    "        #Ignore cells with a borough that is Not assigned\n",
    "        if Borough_temp != 'Not assigned':\n",
    "            Postcode.append(Postcode_temp.strip())\n",
    "            Borough.append(Borough_temp.strip())\n",
    "            Neighbourhood_temp = Neighbourhood_temp.strip()\n",
    "            if Neighbourhood_temp != 'Not assigned':\n",
    "                Neighbourhood.append(Neighbourhood_temp)\n",
    "            else :\n",
    "                #If a cell has a borough but a Not assigned neighborhood, then the neighborhood will be the same as the borough\n",
    "                Neighbourhood.append(Borough_temp)\n",
    "    line_number = line_number + 1"
   ]
  },
  {
   "cell_type": "code",
   "execution_count": 5,
   "metadata": {},
   "outputs": [],
   "source": [
    "#The dataframe will consist of three columns: PostalCode, Borough, and Neighborhood\n",
    "toronto_df = pd.DataFrame({\"PostalCode\":Postcode,\"Borough\":Borough,\"Neighbourhood\":Neighbourhood})\n",
    "#print(toronto_df.head())\n",
    "#print(toronto_df.shape)"
   ]
  },
  {
   "cell_type": "code",
   "execution_count": 6,
   "metadata": {},
   "outputs": [
    {
     "data": {
      "text/html": [
       "<div>\n",
       "<style scoped>\n",
       "    .dataframe tbody tr th:only-of-type {\n",
       "        vertical-align: middle;\n",
       "    }\n",
       "\n",
       "    .dataframe tbody tr th {\n",
       "        vertical-align: top;\n",
       "    }\n",
       "\n",
       "    .dataframe thead th {\n",
       "        text-align: right;\n",
       "    }\n",
       "</style>\n",
       "<table border=\"1\" class=\"dataframe\">\n",
       "  <thead>\n",
       "    <tr style=\"text-align: right;\">\n",
       "      <th></th>\n",
       "      <th>PostalCode</th>\n",
       "      <th>Borough</th>\n",
       "      <th>Neighbourhood</th>\n",
       "    </tr>\n",
       "  </thead>\n",
       "  <tbody>\n",
       "    <tr>\n",
       "      <th>0</th>\n",
       "      <td>M1B</td>\n",
       "      <td>Scarborough</td>\n",
       "      <td>Rouge, Malvern</td>\n",
       "    </tr>\n",
       "    <tr>\n",
       "      <th>1</th>\n",
       "      <td>M1C</td>\n",
       "      <td>Scarborough</td>\n",
       "      <td>Highland Creek, Rouge Hill, Port Union</td>\n",
       "    </tr>\n",
       "    <tr>\n",
       "      <th>2</th>\n",
       "      <td>M1E</td>\n",
       "      <td>Scarborough</td>\n",
       "      <td>Guildwood, Morningside, West Hill</td>\n",
       "    </tr>\n",
       "    <tr>\n",
       "      <th>3</th>\n",
       "      <td>M1G</td>\n",
       "      <td>Scarborough</td>\n",
       "      <td>Woburn</td>\n",
       "    </tr>\n",
       "    <tr>\n",
       "      <th>4</th>\n",
       "      <td>M1H</td>\n",
       "      <td>Scarborough</td>\n",
       "      <td>Cedarbrae</td>\n",
       "    </tr>\n",
       "  </tbody>\n",
       "</table>\n",
       "</div>"
      ],
      "text/plain": [
       "  PostalCode      Borough                           Neighbourhood\n",
       "0        M1B  Scarborough                          Rouge, Malvern\n",
       "1        M1C  Scarborough  Highland Creek, Rouge Hill, Port Union\n",
       "2        M1E  Scarborough       Guildwood, Morningside, West Hill\n",
       "3        M1G  Scarborough                                  Woburn\n",
       "4        M1H  Scarborough                               Cedarbrae"
      ]
     },
     "execution_count": 6,
     "metadata": {},
     "output_type": "execute_result"
    }
   ],
   "source": [
    "#More than one neighborhood can exist in one postal code area.These [multiple] rows will be combined into one row with the neighborhoods separated with a comma\n",
    "toronto_df = toronto_df.groupby('PostalCode').agg({'Borough':'first', \n",
    "                             'Neighbourhood': ', '.join}).reset_index()\n",
    "toronto_df.head()"
   ]
  },
  {
   "cell_type": "code",
   "execution_count": 7,
   "metadata": {},
   "outputs": [
    {
     "name": "stdout",
     "output_type": "stream",
     "text": [
      "Shape of the Dataframe:(103, 3)\n"
     ]
    }
   ],
   "source": [
    "#In the last cell of your notebook, use the .shape method to print the number of rows of your dataframe.\n",
    "print(\"Shape of the Dataframe:\"+str(toronto_df.shape))"
   ]
  },
  {
   "cell_type": "code",
   "execution_count": null,
   "metadata": {},
   "outputs": [],
   "source": []
  }
 ],
 "metadata": {
  "kernelspec": {
   "display_name": "Python 3",
   "language": "python",
   "name": "python3"
  },
  "language_info": {
   "codemirror_mode": {
    "name": "ipython",
    "version": 3
   },
   "file_extension": ".py",
   "mimetype": "text/x-python",
   "name": "python",
   "nbconvert_exporter": "python",
   "pygments_lexer": "ipython3",
   "version": "3.6.6"
  }
 },
 "nbformat": 4,
 "nbformat_minor": 2
}
